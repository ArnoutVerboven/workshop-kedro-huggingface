{
 "cells": [
  {
   "cell_type": "code",
   "execution_count": 1,
   "id": "70c053be-de24-4735-856f-ce01ff25e7d6",
   "metadata": {},
   "outputs": [],
   "source": [
    "import os\n",
    "import datetime as dt\n",
    "import json\n",
    "\n",
    "import polars as pl\n",
    "from praw import Reddit\n",
    "from pydantic import BaseModel, TypeAdapter"
   ]
  },
  {
   "cell_type": "markdown",
   "id": "28ab0ecd-2557-48c2-83d8-b4cd02554006",
   "metadata": {},
   "source": [
    "# 1. Extract data from Reddit\n",
    "\n",
    "We use PRAW https://pypi.org/project/praw/, \"Python Reddit API Wrapper\".\n",
    "\n",
    "Login to Reddit and create an app at https://www.reddit.com/prefs/apps\n",
    "\n",
    "![Reddit app](img/reddit-app.png)\n",
    "\n",
    "(Image from https://www.jcchouinard.com/get-reddit-api-credentials-with-praw/)"
   ]
  },
  {
   "cell_type": "code",
   "execution_count": 17,
   "id": "735ec6c3-6f69-441d-99de-9846347935f6",
   "metadata": {},
   "outputs": [],
   "source": [
    "reddit_client_id = os.environ[\"REDDIT_CLIENT_ID\"]\n",
    "reddit_client_secret = os.environ[\"REDDIT_SECRET\"]\n",
    "reddit_username = os.environ[\"REDDIT_USERNAME\"]  # Just for assembling the user agent"
   ]
  },
  {
   "cell_type": "code",
   "execution_count": 3,
   "id": "4356ee1a-0cc6-4e26-b44f-15c296d76834",
   "metadata": {},
   "outputs": [
    {
     "data": {
      "text/plain": [
       "(None, True)"
      ]
     },
     "execution_count": 3,
     "metadata": {},
     "output_type": "execute_result"
    }
   ],
   "source": [
    "# Read-only Reddit connection https://praw.readthedocs.io/en/stable/getting_started/quick_start.html#read-only-reddit-instances\n",
    "reddit = Reddit(\n",
    "    client_id=reddit_client_id,\n",
    "    client_secret=reddit_client_secret,\n",
    "    user_agent=f\"social summarizer by u/{reddit_username}\",\n",
    ")\n",
    "reddit.user.me(), reddit.read_only"
   ]
  },
  {
   "cell_type": "code",
   "execution_count": 4,
   "id": "50b4f677-8fd4-44e9-af66-759d673708fc",
   "metadata": {},
   "outputs": [],
   "source": [
    "selected_subreddit_names = [\n",
    "    \"r/jokes\",\n",
    "    \"r/askscience\",\n",
    "    \"r/explainlikeimfive\",\n",
    "    \"r/LifeProTips\",\n",
    "    \"r/GetMotivated\",\n",
    "    \"r/AmItheAsshole\"\n",
    "]\n",
    "target_subreddit_name = \"r/AmItheAsshole\""
   ]
  },
  {
   "cell_type": "code",
   "execution_count": 5,
   "id": "bff6b7de-9fce-4c8a-81e0-d8b7a4700404",
   "metadata": {},
   "outputs": [],
   "source": [
    "from IPython.display import Markdown"
   ]
  },
  {
   "cell_type": "code",
   "execution_count": 6,
   "id": "2dc00270-2404-4120-99c9-d6275be6bd49",
   "metadata": {},
   "outputs": [
    {
     "name": "stdout",
     "output_type": "stream",
     "text": [
      "Am I the Asshole? \n"
     ]
    },
    {
     "data": {
      "text/markdown": [
       "#Welcome to r/AmITheAsshole!\r\n",
       "\r\n",
       "A catharsis for the frustrated moral philosopher in all of us, and a place to finally find out if you were wrong in a real-world argument that's been bothering you. Tell us about any non-violent conflict you have experienced; give us both sides of the story, and find out if you're right, or you're the asshole.\r\n",
       "\r\n",
       "This is the sub to lay out your  actions and conflicts and get impartial judgment rendered against you.  Were you the asshole in that situation or not? Post should reflect real situations, and abide by the rules below.\r\n",
       "\r\n",
       "After 18 hours, your post will be given a flair representing the final judgment on your matter.  This flair is determined by the subscribers who have both rendered judgment and voted on which judgment is best.  ***The power of the crowd will judge you***.  If your top level comment has the highest number of upvotes in a thread, you will get a flair point. More details are listed in [our FAQ](https://www.reddit.com/r/AmItheAssho..."
      ],
      "text/plain": [
       "<IPython.core.display.Markdown object>"
      ]
     },
     "execution_count": 6,
     "metadata": {},
     "output_type": "execute_result"
    }
   ],
   "source": [
    "subreddit = reddit.subreddit(target_subreddit_name.removeprefix(\"r/\"))\n",
    "print(subreddit.title)\n",
    "Markdown(subreddit.description[:1_000] + \"...\")"
   ]
  },
  {
   "cell_type": "code",
   "execution_count": 7,
   "id": "6f1474f8-54ed-462d-88ea-d333f8df4060",
   "metadata": {},
   "outputs": [],
   "source": [
    "# Possible parameters https://old.reddit.com/dev/api#GET_new\n",
    "submissions = []\n",
    "for submission in subreddit.new(limit=2):\n",
    "    submissions.append({\n",
    "        \"title\": submission.title,\n",
    "        \"author_name\": submission.author.name,\n",
    "        \"creation_datetime\": dt.datetime.utcfromtimestamp(submission.created_utc).isoformat(),\n",
    "        \"subreddit_name\": submission.subreddit_name_prefixed,\n",
    "        \"num_comments\": submission.num_comments,\n",
    "        \"sfw\": not submission.over_18,\n",
    "        \"score\": submission.score,\n",
    "        \"upvote_ratio\": submission.upvote_ratio,\n",
    "        \"is_self\": submission.is_self,\n",
    "        \"permalink\": submission.permalink,\n",
    "        \"selftext\": submission.selftext,\n",
    "        \"flair_text\": submission.link_flair_text,\n",
    "    })"
   ]
  },
  {
   "cell_type": "code",
   "execution_count": 8,
   "id": "5c351937-4de2-4046-924e-3f10072216c0",
   "metadata": {},
   "outputs": [
    {
     "data": {
      "text/plain": [
       "'[{\"title\": \"AITAH for not having the same sexual preferences now that I\\\\u2019m sober\", \"author_name\": \"Hairymatt\", \"creation_datetime\": \"2024-03-24T05:37:00\", \"subreddit_name\": \"r/AmItheAsshole\", \"num_comments\": 2, \"sfw\": true, \"score\": 1, \"upvote_ratio\": 1.0, \"is_self\": true, \"permalink\": \"/r/AmItheAsshole/comments/1bmddk3/aitah_for_not_having_the_same_sexual_preferences/\", \"selftext\": \"I got sober when my current partner and I got together.\\\\n Before this I was in a FWB situation with someone who was into various kinks. I explored these with them, reliving some experiences I hadn\\\\u2019t had in a while after having a couple drinks.\\\\n\\\\nThen I got sober and the desire to do those things dissipated. As well as most of my sex drive. \\\\n\\\\nMy current partner is upset about my sexual past given that it was very close to the beginning of our relationship. They\\\\u2019re feeling undesirable and think I find them disgusting because I don\\\\u2019t act like I did prior to the relationship.\\\\n\\\\nAm I an a...'"
      ]
     },
     "execution_count": 8,
     "metadata": {},
     "output_type": "execute_result"
    }
   ],
   "source": [
    "json.dumps(submissions)[:1_000] + \"...\""
   ]
  },
  {
   "cell_type": "markdown",
   "id": "417238f6-3028-40d9-9057-77a7192f9083",
   "metadata": {},
   "source": [
    "Notice the `creation_datetime` is `str`, for easier serialization!"
   ]
  },
  {
   "cell_type": "code",
   "execution_count": 9,
   "id": "499e6b75-8f55-4393-981a-1c6b47af7803",
   "metadata": {},
   "outputs": [
    {
     "data": {
      "text/plain": [
       "'2024-03-24T05:34:21'"
      ]
     },
     "execution_count": 9,
     "metadata": {},
     "output_type": "execute_result"
    }
   ],
   "source": [
    "submissions[-1][\"creation_datetime\"]"
   ]
  },
  {
   "cell_type": "markdown",
   "id": "bf9cf92b-8c4a-47d1-91f0-1300d1cade92",
   "metadata": {},
   "source": [
    "# 2. Model the data\n",
    "\n",
    "We use Pydantic https://pypi.org/project/pydantic/, a popular Python library for data validation"
   ]
  },
  {
   "cell_type": "code",
   "execution_count": 10,
   "id": "e467c5d0-96b2-4572-b1aa-3735fe05ccaa",
   "metadata": {},
   "outputs": [],
   "source": [
    "class RedditSubmission(BaseModel):\n",
    "    title: str\n",
    "    author_name: str\n",
    "    creation_datetime: dt.datetime\n",
    "    subreddit_name: str\n",
    "    num_comments: int\n",
    "    sfw: bool\n",
    "    score: int\n",
    "    upvote_ratio: float\n",
    "    is_self: bool\n",
    "    permalink: str\n",
    "    selftext: str | None\n",
    "    flair_text: str | None"
   ]
  },
  {
   "cell_type": "code",
   "execution_count": 11,
   "id": "ca0049fc-69e3-47d1-8661-41de5f571214",
   "metadata": {},
   "outputs": [],
   "source": [
    "adapter = TypeAdapter(list[RedditSubmission])"
   ]
  },
  {
   "cell_type": "code",
   "execution_count": 12,
   "id": "00c492f5-231d-4638-80b9-d7bafaff291e",
   "metadata": {},
   "outputs": [
    {
     "data": {
      "text/plain": [
       "[RedditSubmission(title='AITAH for not having the same sexual preferences now that I’m sober', author_name='Hairymatt', creation_datetime=datetime.datetime(2024, 3, 24, 5, 37), subreddit_name='r/AmItheAsshole', num_comments=2, sfw=True, score=1, upvote_ratio=1.0, is_self=True, permalink='/r/AmItheAsshole/comments/1bmddk3/aitah_for_not_having_the_same_sexual_preferences/', selftext='I got sober when my current partner and I got together.\\n Before this I was in a FWB situation with someone who was into various kinks. I explored these with them, reliving some experiences I hadn’t had in a while after having a couple drinks.\\n\\nThen I got sober and the desire to do those things dissipated. As well as most of my sex drive. \\n\\nMy current partner is upset about my sexual past given that it was very close to the beginning of our relationship. They’re feeling undesirable and think I find them disgusting because I don’t act like I did prior to the relationship.\\n\\nAm I an asshole?', flair_text=None),\n",
       " RedditSubmission(title='AITA for shouting at my husband and throwing my MIL out', author_name='Certain-Ad4543', creation_datetime=datetime.datetime(2024, 3, 24, 5, 34, 21), subreddit_name='r/AmItheAsshole', num_comments=2, sfw=True, score=1, upvote_ratio=1.0, is_self=True, permalink='/r/AmItheAsshole/comments/1bmdc31/aita_for_shouting_at_my_husband_and_throwing_my/', selftext='I (27) have been married to my husband, (I’ll refer to him as Alex, fake name) (36M), for 7 years and we have 2 children together, a 3 yr old girl and a baby (2 wks) \\n\\nA week ago my MIL (we’ll call her Kathy) recently had a pretty bad breakup with a long term partner of hers.  Following this, Kathy asked Alex if she could stay with us for a while, he obliged. Alex didn’t run this by me but as this is his mother and she is going through a rough patch, I let it go.\\n\\nNow here’s where the problem begins:\\n\\nMIL has been constantly critiquing my parenting and even inserting herself in me and Alex’s \\nfinances. I’m no stranger to her bashing my parenting when we would see her on holidays with my toddler but this was her first time staying with us for so long.\\n\\nSome of MIL’s bashing goes as follows —  baby is mainly formula fed (I want to breastfeed exclusively but my milk supply is low and I’ve been working with my baby’s pediatrician) She goes on long rants about how I’m “feeding my baby poison” and “throwing money down the drain” and how she  “breastfed her children with no problems!” And that I need to stop being lazy.\\n\\nAs well as a thousand critiques about how I’m holding baby too much and Ill spoil her. (No amount of telling her my conversations with my baby’s pediatrician put an end to this.)\\n\\nAnd when I make my 3 year old something quick for breakfast or lunch and MIL goes on about how “I’m home all day doing nothing and can’t be bothered to cook my child a real meal)\\n\\nMy final straw happened last night:\\n\\nI’m currently on maternity leave (elementary school teacher) my husband is working and makes about 3x what I make. When my husband got home from work, I asked him to watch the kids for a few minutes while I took a shower.. MIL says I’m being lazy and a gold digger and that I expect \\n her son to do all the work and then come home and babysit. I lost it. I shouted at her to go back to her own house, and to mind her own parenting. My husband then said I can’t do that to my own MIL and that she lives all on her own now and that I was being cruel. I shouted at him that she has 3 other children she can stay with, that he lets her get away with talking to his wife that way and what kind of husband is he.\\n\\nMIL and Alex left, Alex said he’ll stay with his mother for a night or two. I called my sister and mom over to help with the kids and to talk to them.\\n\\nI feel like I may be TA because even though Alex has heard many of the remarks she’s made about me and my parenting, I probably should’ve talked to him about it and now it made me feel.\\n', flair_text=None)]"
      ]
     },
     "execution_count": 12,
     "metadata": {},
     "output_type": "execute_result"
    }
   ],
   "source": [
    "objects = adapter.validate_python(submissions)\n",
    "objects"
   ]
  },
  {
   "cell_type": "markdown",
   "id": "baa32cf0-be82-464f-a6f7-2aa7f01ba4a1",
   "metadata": {},
   "source": [
    "Pydantic automatically converted the str datetime to an actual `datetime.datatime` object, as specified in the model:"
   ]
  },
  {
   "cell_type": "code",
   "execution_count": 13,
   "id": "9e932cb9-022d-4416-a83b-859b2e68908d",
   "metadata": {},
   "outputs": [
    {
     "data": {
      "text/plain": [
       "datetime.datetime(2024, 3, 24, 5, 34, 21)"
      ]
     },
     "execution_count": 13,
     "metadata": {},
     "output_type": "execute_result"
    }
   ],
   "source": [
    "objects[-1].creation_datetime"
   ]
  },
  {
   "cell_type": "markdown",
   "id": "f4e87a89-e5b4-48ef-8e7e-4111a3980b09",
   "metadata": {},
   "source": [
    "# 3. Convert to a dataframe\n",
    "\n",
    "We use Polars https://pypi.org/project/polars/, a nascent dataframe library with an expressive API and blazing fast performance"
   ]
  },
  {
   "cell_type": "code",
   "execution_count": 14,
   "id": "70b7d7cf-91a2-4bad-a603-71782e8a303c",
   "metadata": {},
   "outputs": [
    {
     "data": {
      "text/html": [
       "<div><style>\n",
       ".dataframe > thead > tr,\n",
       ".dataframe > tbody > tr {\n",
       "  text-align: right;\n",
       "  white-space: pre-wrap;\n",
       "}\n",
       "</style>\n",
       "<small>shape: (2, 12)</small><table border=\"1\" class=\"dataframe\"><thead><tr><th>title</th><th>author_name</th><th>creation_datetime</th><th>subreddit_name</th><th>num_comments</th><th>sfw</th><th>score</th><th>upvote_ratio</th><th>is_self</th><th>permalink</th><th>selftext</th><th>flair_text</th></tr><tr><td>str</td><td>str</td><td>datetime[μs]</td><td>str</td><td>i64</td><td>bool</td><td>i64</td><td>f64</td><td>bool</td><td>str</td><td>str</td><td>str</td></tr></thead><tbody><tr><td>&quot;AITAH for not …</td><td>&quot;Hairymatt&quot;</td><td>2024-03-24 05:37:00</td><td>&quot;r/AmItheAsshol…</td><td>2</td><td>true</td><td>1</td><td>1.0</td><td>true</td><td>&quot;/r/AmItheAssho…</td><td>&quot;I got sober wh…</td><td>null</td></tr><tr><td>&quot;AITA for shout…</td><td>&quot;Certain-Ad4543…</td><td>2024-03-24 05:34:21</td><td>&quot;r/AmItheAsshol…</td><td>2</td><td>true</td><td>1</td><td>1.0</td><td>true</td><td>&quot;/r/AmItheAssho…</td><td>&quot;I (27) have be…</td><td>null</td></tr></tbody></table></div>"
      ],
      "text/plain": [
       "shape: (2, 12)\n",
       "┌────────────┬───────────┬───────────┬───────────┬───┬─────────┬───────────┬───────────┬───────────┐\n",
       "│ title      ┆ author_na ┆ creation_ ┆ subreddit ┆ … ┆ is_self ┆ permalink ┆ selftext  ┆ flair_tex │\n",
       "│ ---        ┆ me        ┆ datetime  ┆ _name     ┆   ┆ ---     ┆ ---       ┆ ---       ┆ t         │\n",
       "│ str        ┆ ---       ┆ ---       ┆ ---       ┆   ┆ bool    ┆ str       ┆ str       ┆ ---       │\n",
       "│            ┆ str       ┆ datetime[ ┆ str       ┆   ┆         ┆           ┆           ┆ str       │\n",
       "│            ┆           ┆ μs]       ┆           ┆   ┆         ┆           ┆           ┆           │\n",
       "╞════════════╪═══════════╪═══════════╪═══════════╪═══╪═════════╪═══════════╪═══════════╪═══════════╡\n",
       "│ AITAH for  ┆ Hairymatt ┆ 2024-03-2 ┆ r/AmItheA ┆ … ┆ true    ┆ /r/AmIthe ┆ I got     ┆ null      │\n",
       "│ not having ┆           ┆ 4         ┆ sshole    ┆   ┆         ┆ Asshole/c ┆ sober     ┆           │\n",
       "│ the same   ┆           ┆ 05:37:00  ┆           ┆   ┆         ┆ omments/1 ┆ when my   ┆           │\n",
       "│ se…        ┆           ┆           ┆           ┆   ┆         ┆ bmddk…    ┆ current   ┆           │\n",
       "│            ┆           ┆           ┆           ┆   ┆         ┆           ┆ part…     ┆           │\n",
       "│ AITA for   ┆ Certain-A ┆ 2024-03-2 ┆ r/AmItheA ┆ … ┆ true    ┆ /r/AmIthe ┆ I (27)    ┆ null      │\n",
       "│ shouting   ┆ d4543     ┆ 4         ┆ sshole    ┆   ┆         ┆ Asshole/c ┆ have been ┆           │\n",
       "│ at my      ┆           ┆ 05:34:21  ┆           ┆   ┆         ┆ omments/1 ┆ married   ┆           │\n",
       "│ husband …  ┆           ┆           ┆           ┆   ┆         ┆ bmdc3…    ┆ to my h…  ┆           │\n",
       "└────────────┴───────────┴───────────┴───────────┴───┴─────────┴───────────┴───────────┴───────────┘"
      ]
     },
     "execution_count": 14,
     "metadata": {},
     "output_type": "execute_result"
    }
   ],
   "source": [
    "df = pl.from_dicts(objects)\n",
    "df.head()"
   ]
  },
  {
   "cell_type": "code",
   "execution_count": null,
   "id": "8419431d-d616-4b3b-8cd2-c34c8146f61f",
   "metadata": {},
   "outputs": [],
   "source": []
  }
 ],
 "metadata": {
  "kernelspec": {
   "display_name": "Python 3 (ipykernel)",
   "language": "python",
   "name": "python3"
  },
  "language_info": {
   "codemirror_mode": {
    "name": "ipython",
    "version": 3
   },
   "file_extension": ".py",
   "mimetype": "text/x-python",
   "name": "python",
   "nbconvert_exporter": "python",
   "pygments_lexer": "ipython3",
   "version": "3.11.5"
  }
 },
 "nbformat": 4,
 "nbformat_minor": 5
}
