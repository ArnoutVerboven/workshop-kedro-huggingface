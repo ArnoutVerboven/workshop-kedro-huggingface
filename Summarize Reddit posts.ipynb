{
 "cells": [
  {
   "cell_type": "code",
   "execution_count": 18,
   "id": "70c053be-de24-4735-856f-ce01ff25e7d6",
   "metadata": {},
   "outputs": [],
   "source": [
    "import os\n",
    "import datetime as dt\n",
    "import json\n",
    "import textwrap\n",
    "\n",
    "import polars as pl\n",
    "from praw import Reddit\n",
    "from pydantic import BaseModel, TypeAdapter"
   ]
  },
  {
   "cell_type": "markdown",
   "id": "28ab0ecd-2557-48c2-83d8-b4cd02554006",
   "metadata": {},
   "source": [
    "# 1. Extract data from Reddit\n",
    "\n",
    "We use PRAW https://pypi.org/project/praw/, \"Python Reddit API Wrapper\".\n",
    "\n",
    "Login to Reddit and create an app at https://www.reddit.com/prefs/apps\n",
    "\n",
    "![Reddit app](img/reddit-app.png)\n",
    "\n",
    "(Image from https://www.jcchouinard.com/get-reddit-api-credentials-with-praw/)"
   ]
  },
  {
   "cell_type": "code",
   "execution_count": 19,
   "id": "ac5ca095",
   "metadata": {},
   "outputs": [
    {
     "name": "stdout",
     "output_type": "stream",
     "text": [
      "The dotenv extension is already loaded. To reload it, use:\n",
      "  %reload_ext dotenv\n"
     ]
    }
   ],
   "source": [
    "%load_ext dotenv"
   ]
  },
  {
   "cell_type": "code",
   "execution_count": 20,
   "id": "a1333255",
   "metadata": {},
   "outputs": [],
   "source": [
    "%dotenv"
   ]
  },
  {
   "cell_type": "code",
   "execution_count": 21,
   "id": "735ec6c3-6f69-441d-99de-9846347935f6",
   "metadata": {},
   "outputs": [],
   "source": [
    "reddit_client_id = os.environ[\"REDDIT_CLIENT_ID\"]\n",
    "reddit_client_secret = os.environ[\"REDDIT_SECRET\"]\n",
    "reddit_username = os.environ[\"REDDIT_USERNAME\"]  # Just for assembling the user agent\n",
    "\n",
    "minio_endpoint_url = os.environ[\"MINIO_ENDPOINT_URL\"]\n",
    "minio_access_key = os.environ[\"MINIO_KEY\"]\n",
    "minio_secret_id = os.environ[\"MINIO_SECRET\"]"
   ]
  },
  {
   "cell_type": "code",
   "execution_count": 22,
   "id": "4356ee1a-0cc6-4e26-b44f-15c296d76834",
   "metadata": {},
   "outputs": [
    {
     "data": {
      "text/plain": [
       "(None, True)"
      ]
     },
     "execution_count": 22,
     "metadata": {},
     "output_type": "execute_result"
    }
   ],
   "source": [
    "# Read-only Reddit connection https://praw.readthedocs.io/en/stable/getting_started/quick_start.html#read-only-reddit-instances\n",
    "reddit = Reddit(\n",
    "    client_id=reddit_client_id,\n",
    "    client_secret=reddit_client_secret,\n",
    "    user_agent=f\"social summarizer by u/{reddit_username}\",\n",
    ")\n",
    "reddit.user.me(), reddit.read_only"
   ]
  },
  {
   "cell_type": "code",
   "execution_count": 23,
   "id": "50b4f677-8fd4-44e9-af66-759d673708fc",
   "metadata": {},
   "outputs": [],
   "source": [
    "selected_subreddit_names = [\n",
    "    \"r/jokes\",\n",
    "    \"r/askscience\",\n",
    "    \"r/explainlikeimfive\",\n",
    "    \"r/LifeProTips\",\n",
    "    \"r/GetMotivated\",\n",
    "    \"r/AmItheAsshole\"\n",
    "]\n",
    "target_subreddit_name = \"r/AmItheAsshole\""
   ]
  },
  {
   "cell_type": "code",
   "execution_count": 24,
   "id": "bff6b7de-9fce-4c8a-81e0-d8b7a4700404",
   "metadata": {},
   "outputs": [],
   "source": [
    "from IPython.display import Markdown"
   ]
  },
  {
   "cell_type": "code",
   "execution_count": 25,
   "id": "2dc00270-2404-4120-99c9-d6275be6bd49",
   "metadata": {},
   "outputs": [
    {
     "name": "stdout",
     "output_type": "stream",
     "text": [
      "Am I the Asshole? \n"
     ]
    },
    {
     "data": {
      "text/markdown": [
       "#Welcome to r/AmITheAsshole!\r\n",
       "\r\n",
       "A catharsis for the frustrated moral philosopher in all of us, and a place to finally find out if you were wrong in a real-world argument that's been bothering you. Tell us about any non-violent conflict you have experienced; give us both sides of the story, and find out if you're right, or you're the asshole.\r\n",
       "\r\n",
       "This is the sub to lay out your  actions and conflicts and get impartial judgment rendered against you.  Were you the asshole in that situation or not? Post should reflect real situations, and abide by the rules below.\r\n",
       "\r\n",
       "After 18 hours, your post will be given a flair representing the final judgment on your matter.  This flair is determined by the subscribers who have both rendered judgment and voted on which judgment is best.  ***The power of the crowd will judge you***.  If your top level comment has the highest number of upvotes in a thread, you will get a flair point. More details are listed in [our FAQ](https://www.reddit.com/r/AmItheAssho..."
      ],
      "text/plain": [
       "<IPython.core.display.Markdown object>"
      ]
     },
     "execution_count": 25,
     "metadata": {},
     "output_type": "execute_result"
    }
   ],
   "source": [
    "subreddit = reddit.subreddit(target_subreddit_name.removeprefix(\"r/\"))\n",
    "print(subreddit.title)\n",
    "Markdown(subreddit.description[:1_000] + \"...\")"
   ]
  },
  {
   "cell_type": "code",
   "execution_count": 26,
   "id": "6f1474f8-54ed-462d-88ea-d333f8df4060",
   "metadata": {},
   "outputs": [],
   "source": [
    "# Possible parameters https://old.reddit.com/dev/api#GET_new\n",
    "submissions = []\n",
    "for submission in subreddit.new(limit=2):\n",
    "    submissions.append({\n",
    "        \"title\": submission.title,\n",
    "        \"author_name\": submission.author.name,\n",
    "        \"creation_datetime\": dt.datetime.utcfromtimestamp(submission.created_utc).isoformat(),\n",
    "        \"subreddit_name\": submission.subreddit_name_prefixed,\n",
    "        \"num_comments\": submission.num_comments,\n",
    "        \"sfw\": not submission.over_18,\n",
    "        \"score\": submission.score,\n",
    "        \"upvote_ratio\": submission.upvote_ratio,\n",
    "        \"is_self\": submission.is_self,\n",
    "        \"permalink\": submission.permalink,\n",
    "        \"selftext\": submission.selftext,\n",
    "        \"flair_text\": submission.link_flair_text,\n",
    "    })"
   ]
  },
  {
   "cell_type": "code",
   "execution_count": 27,
   "id": "89812861",
   "metadata": {},
   "outputs": [
    {
     "name": "stdout",
     "output_type": "stream",
     "text": [
      "[{\"title\": \"AITA for saying my mom isn't my mom anymore \",\n",
      "\"author_name\": \"Every-Disaster1853\", \"creation_datetime\":\n",
      "\"2024-03-24T13:07:01\", \"subreddit_name\": \"r/AmItheAsshole\",\n",
      "\"num_comments\": 2, \"sfw\": true, \"score\": 0, \"upvote_ratio\": 0.5,\n",
      "\"is_self\": true, \"permalink\": \"/r/AmItheAsshole/comments/1bmkbpj/aita_\n",
      "for_saying_my_mom_isnt_my_mom_anymore/\", \"selftext\": \"I (15F) my mom\n",
      "(52F) never had a good relationship with eachother. She was also a\n",
      "drunk \\n\\nWe were a ok family before we moved to another country. She\n",
      "was beginning to drink more and more and when we were fighting she\n",
      "began screaming my oof attamt should have worked.at that moment my\n",
      "rage was so big i screamed at her that she needs to Figure out what\n",
      "she wants but that im not her daughter anymore. At that moment my aunt\n",
      "came with the police and she got sent to a psychiatric hospital \\n\\nSo\n",
      "am i the asshole \\n\\nPs im safe now my sister is also safe my mom is\n",
      "out of the facility .\\n\", \"flair_text\": null}, {\"title\": \"AITA:\n",
      "Bathr...\n"
     ]
    }
   ],
   "source": [
    "print(\"\\n\".join(textwrap.wrap((json.dumps(submissions)[:1_000] + \"...\"), width=70)))"
   ]
  },
  {
   "cell_type": "markdown",
   "id": "417238f6-3028-40d9-9057-77a7192f9083",
   "metadata": {},
   "source": [
    "Notice the `creation_datetime` is `str`, for easier serialization!"
   ]
  },
  {
   "cell_type": "code",
   "execution_count": 28,
   "id": "499e6b75-8f55-4393-981a-1c6b47af7803",
   "metadata": {},
   "outputs": [
    {
     "data": {
      "text/plain": [
       "'2024-03-24T13:05:45'"
      ]
     },
     "execution_count": 28,
     "metadata": {},
     "output_type": "execute_result"
    }
   ],
   "source": [
    "submissions[-1][\"creation_datetime\"]"
   ]
  },
  {
   "cell_type": "markdown",
   "id": "bf9cf92b-8c4a-47d1-91f0-1300d1cade92",
   "metadata": {},
   "source": [
    "# 2. Model the data\n",
    "\n",
    "We use Pydantic https://pypi.org/project/pydantic/, a popular Python library for data validation"
   ]
  },
  {
   "cell_type": "code",
   "execution_count": 29,
   "id": "e467c5d0-96b2-4572-b1aa-3735fe05ccaa",
   "metadata": {},
   "outputs": [],
   "source": [
    "class RedditSubmission(BaseModel):\n",
    "    title: str\n",
    "    author_name: str\n",
    "    creation_datetime: dt.datetime\n",
    "    subreddit_name: str\n",
    "    num_comments: int\n",
    "    sfw: bool\n",
    "    score: int\n",
    "    upvote_ratio: float\n",
    "    is_self: bool\n",
    "    permalink: str\n",
    "    selftext: str | None\n",
    "    flair_text: str | None"
   ]
  },
  {
   "cell_type": "code",
   "execution_count": 30,
   "id": "ca0049fc-69e3-47d1-8661-41de5f571214",
   "metadata": {},
   "outputs": [],
   "source": [
    "adapter = TypeAdapter(list[RedditSubmission])"
   ]
  },
  {
   "cell_type": "code",
   "execution_count": 31,
   "id": "00c492f5-231d-4638-80b9-d7bafaff291e",
   "metadata": {},
   "outputs": [
    {
     "data": {
      "text/plain": [
       "[RedditSubmission(title=\"AITA for saying my mom isn't my mom anymore \", author_name='Every-Disaster1853', creation_datetime=datetime.datetime(2024, 3, 24, 13, 7, 1), subreddit_name='r/AmItheAsshole', num_comments=2, sfw=True, score=0, upvote_ratio=0.5, is_self=True, permalink='/r/AmItheAsshole/comments/1bmkbpj/aita_for_saying_my_mom_isnt_my_mom_anymore/', selftext='I (15F) my mom (52F) never had a good relationship with eachother. She was also a drunk \\n\\nWe were a ok family before we moved to another country. She was beginning to drink more and more and when we were fighting she began screaming my oof attamt should have worked.at that moment my rage was so big i screamed at her that she needs to Figure out what she wants but that im not her daughter anymore. At that moment my aunt came with the police and she got sent to a psychiatric hospital \\n\\nSo am i the asshole \\n\\nPs im safe now my sister is also safe my mom is out of the facility .\\n', flair_text=None),\n",
       " RedditSubmission(title='AITA: Bathroom situation ', author_name='Used_Warning_2162', creation_datetime=datetime.datetime(2024, 3, 24, 13, 5, 45), subreddit_name='r/AmItheAsshole', num_comments=2, sfw=True, score=1, upvote_ratio=1.0, is_self=True, permalink='/r/AmItheAsshole/comments/1bmkau5/aita_bathroom_situation/', selftext='My little brother \\n\\nI went to open the bathroom to see if my little brother was inside and when I saw he was inside using the sink I closed the door. He then got mad at me and told me “why would you open the door, if you saw the light was on!”. I told I thought he left the bathroom and he said if he left the bathroom without closing the light  it should have been a sign that he was going to come back and told him, that it \\nI thought he forgot to close the light while leaving the bathroom and he told I can’t think critically. \\n\\nWhat does that have to do with critical thinking \\n\\nWhat do you guys think? Am I a dumb person \\n\\nAm I the asshole? ', flair_text=None)]"
      ]
     },
     "execution_count": 31,
     "metadata": {},
     "output_type": "execute_result"
    }
   ],
   "source": [
    "objects = adapter.validate_python(submissions)\n",
    "objects"
   ]
  },
  {
   "cell_type": "markdown",
   "id": "baa32cf0-be82-464f-a6f7-2aa7f01ba4a1",
   "metadata": {},
   "source": [
    "Pydantic automatically converted the str datetime to an actual `datetime.datatime` object, as specified in the model:"
   ]
  },
  {
   "cell_type": "code",
   "execution_count": 32,
   "id": "9e932cb9-022d-4416-a83b-859b2e68908d",
   "metadata": {},
   "outputs": [
    {
     "data": {
      "text/plain": [
       "datetime.datetime(2024, 3, 24, 13, 5, 45)"
      ]
     },
     "execution_count": 32,
     "metadata": {},
     "output_type": "execute_result"
    }
   ],
   "source": [
    "objects[-1].creation_datetime"
   ]
  },
  {
   "cell_type": "markdown",
   "id": "f4e87a89-e5b4-48ef-8e7e-4111a3980b09",
   "metadata": {},
   "source": [
    "# 3. Store data\n",
    "\n",
    "We use Polars https://pypi.org/project/polars/, a nascent dataframe library with an expressive API and blazing fast performance"
   ]
  },
  {
   "cell_type": "code",
   "execution_count": 33,
   "id": "70b7d7cf-91a2-4bad-a603-71782e8a303c",
   "metadata": {},
   "outputs": [
    {
     "data": {
      "text/html": [
       "<div><style>\n",
       ".dataframe > thead > tr,\n",
       ".dataframe > tbody > tr {\n",
       "  text-align: right;\n",
       "  white-space: pre-wrap;\n",
       "}\n",
       "</style>\n",
       "<small>shape: (2, 12)</small><table border=\"1\" class=\"dataframe\"><thead><tr><th>title</th><th>author_name</th><th>creation_datetime</th><th>subreddit_name</th><th>num_comments</th><th>sfw</th><th>score</th><th>upvote_ratio</th><th>is_self</th><th>permalink</th><th>selftext</th><th>flair_text</th></tr><tr><td>str</td><td>str</td><td>datetime[μs]</td><td>str</td><td>i64</td><td>bool</td><td>i64</td><td>f64</td><td>bool</td><td>str</td><td>str</td><td>str</td></tr></thead><tbody><tr><td>&quot;AITA for sayin…</td><td>&quot;Every-Disaster…</td><td>2024-03-24 13:07:01</td><td>&quot;r/AmItheAsshol…</td><td>2</td><td>true</td><td>0</td><td>0.5</td><td>true</td><td>&quot;/r/AmItheAssho…</td><td>&quot;I (15F) my mom…</td><td>null</td></tr><tr><td>&quot;AITA: Bathroom…</td><td>&quot;Used_Warning_2…</td><td>2024-03-24 13:05:45</td><td>&quot;r/AmItheAsshol…</td><td>2</td><td>true</td><td>1</td><td>1.0</td><td>true</td><td>&quot;/r/AmItheAssho…</td><td>&quot;My little brot…</td><td>null</td></tr></tbody></table></div>"
      ],
      "text/plain": [
       "shape: (2, 12)\n",
       "┌────────────┬───────────┬───────────┬───────────┬───┬─────────┬───────────┬───────────┬───────────┐\n",
       "│ title      ┆ author_na ┆ creation_ ┆ subreddit ┆ … ┆ is_self ┆ permalink ┆ selftext  ┆ flair_tex │\n",
       "│ ---        ┆ me        ┆ datetime  ┆ _name     ┆   ┆ ---     ┆ ---       ┆ ---       ┆ t         │\n",
       "│ str        ┆ ---       ┆ ---       ┆ ---       ┆   ┆ bool    ┆ str       ┆ str       ┆ ---       │\n",
       "│            ┆ str       ┆ datetime[ ┆ str       ┆   ┆         ┆           ┆           ┆ str       │\n",
       "│            ┆           ┆ μs]       ┆           ┆   ┆         ┆           ┆           ┆           │\n",
       "╞════════════╪═══════════╪═══════════╪═══════════╪═══╪═════════╪═══════════╪═══════════╪═══════════╡\n",
       "│ AITA for   ┆ Every-Dis ┆ 2024-03-2 ┆ r/AmItheA ┆ … ┆ true    ┆ /r/AmIthe ┆ I (15F)   ┆ null      │\n",
       "│ saying my  ┆ aster1853 ┆ 4         ┆ sshole    ┆   ┆         ┆ Asshole/c ┆ my mom    ┆           │\n",
       "│ mom isn't  ┆           ┆ 13:07:01  ┆           ┆   ┆         ┆ omments/1 ┆ (52F)     ┆           │\n",
       "│ my …       ┆           ┆           ┆           ┆   ┆         ┆ bmkbp…    ┆ never had ┆           │\n",
       "│            ┆           ┆           ┆           ┆   ┆         ┆           ┆ a…        ┆           │\n",
       "│ AITA:      ┆ Used_Warn ┆ 2024-03-2 ┆ r/AmItheA ┆ … ┆ true    ┆ /r/AmIthe ┆ My little ┆ null      │\n",
       "│ Bathroom   ┆ ing_2162  ┆ 4         ┆ sshole    ┆   ┆         ┆ Asshole/c ┆ brother   ┆           │\n",
       "│ situation  ┆           ┆ 13:05:45  ┆           ┆   ┆         ┆ omments/1 ┆           ┆           │\n",
       "│            ┆           ┆           ┆           ┆   ┆         ┆ bmkau…    ┆ I went to ┆           │\n",
       "│            ┆           ┆           ┆           ┆   ┆         ┆           ┆ op…       ┆           │\n",
       "└────────────┴───────────┴───────────┴───────────┴───┴─────────┴───────────┴───────────┴───────────┘"
      ]
     },
     "execution_count": 33,
     "metadata": {},
     "output_type": "execute_result"
    }
   ],
   "source": [
    "df = pl.from_dicts(objects)\n",
    "df.head()"
   ]
  },
  {
   "cell_type": "code",
   "execution_count": 34,
   "id": "0eb84d7a",
   "metadata": {},
   "outputs": [],
   "source": [
    "df.write_delta(\"submissions\", mode=\"overwrite\")"
   ]
  },
  {
   "cell_type": "markdown",
   "id": "ab558297",
   "metadata": {},
   "source": [
    "Writing to a local Delta table is okay, but doing so to an object-storage is even better! Enter MinIO:"
   ]
  },
  {
   "cell_type": "code",
   "execution_count": 35,
   "id": "73ffbdc5",
   "metadata": {},
   "outputs": [],
   "source": [
    "minio_storage_options = {\n",
    "    \"AWS_ENDPOINT_URL\": minio_endpoint_url,\n",
    "    \"AWS_ACCESS_KEY_ID\": minio_access_key,\n",
    "    \"AWS_SECRET_ACCESS_KEY\": minio_secret_id,\n",
    "    \"AWS_REGION\": \"<localhost>\",  # Boilerplate\n",
    "    \"AWS_ALLOW_HTTP\": \"true\",  # Boilerplate\n",
    "    \"AWS_S3_ALLOW_UNSAFE_RENAME\": \"true\",  # Boilerplate\n",
    "}"
   ]
  },
  {
   "cell_type": "code",
   "execution_count": 36,
   "id": "2417d642",
   "metadata": {},
   "outputs": [
    {
     "name": "stderr",
     "output_type": "stream",
     "text": [
      "\u001b[90m[\u001b[0m2024-03-24T13:10:07Z \u001b[33mWARN \u001b[0m aws_config::imds::region\u001b[90m]\u001b[0m failed to load region from IMDS err=failed to load IMDS session token: dispatch failure: timeout: error trying to connect: HTTP connect timeout occurred after 1s: HTTP connect timeout occurred after 1s: timed out (FailedToLoadToken(FailedToLoadToken { source: DispatchFailure(DispatchFailure { source: ConnectorError { kind: Timeout, source: hyper::Error(Connect, HttpTimeoutError { kind: \"HTTP connect\", duration: 1s }), connection: Unknown } }) }))\n",
      "\u001b[90m[\u001b[0m2024-03-24T13:10:08Z \u001b[33mWARN \u001b[0m aws_config::imds::region\u001b[90m]\u001b[0m failed to load region from IMDS err=failed to load IMDS session token: dispatch failure: timeout: error trying to connect: HTTP connect timeout occurred after 1s: HTTP connect timeout occurred after 1s: timed out (FailedToLoadToken(FailedToLoadToken { source: DispatchFailure(DispatchFailure { source: ConnectorError { kind: Timeout, source: hyper::Error(Connect, HttpTimeoutError { kind: \"HTTP connect\", duration: 1s }), connection: Unknown } }) }))\n",
      "\u001b[90m[\u001b[0m2024-03-24T13:10:08Z \u001b[33mWARN \u001b[0m aws_config::imds::region\u001b[90m]\u001b[0m failed to load region from IMDS err=failed to load IMDS session token: dispatch failure: io error: error trying to connect: tcp connect error: Host is down (os error 64): tcp connect error: Host is down (os error 64): Host is down (os error 64) (FailedToLoadToken(FailedToLoadToken { source: DispatchFailure(DispatchFailure { source: ConnectorError { kind: Io, source: hyper::Error(Connect, ConnectError(\"tcp connect error\", Os { code: 64, kind: Uncategorized, message: \"Host is down\" })), connection: Unknown } }) }))\n"
     ]
    }
   ],
   "source": [
    "df.write_delta(\"s3://reddit-submissions/submissions-raw\", mode=\"overwrite\", storage_options=minio_storage_options)"
   ]
  },
  {
   "cell_type": "markdown",
   "id": "fd6efb8a",
   "metadata": {},
   "source": [
    "And the icing in the cake is doing an `UPSERT`-like operation:"
   ]
  },
  {
   "cell_type": "code",
   "execution_count": 37,
   "id": "4dd201d6",
   "metadata": {},
   "outputs": [
    {
     "data": {
      "text/plain": [
       "{'num_source_rows': 2,\n",
       " 'num_target_rows_inserted': 0,\n",
       " 'num_target_rows_updated': 2,\n",
       " 'num_target_rows_deleted': 0,\n",
       " 'num_target_rows_copied': 0,\n",
       " 'num_output_rows': 2,\n",
       " 'num_target_files_added': 1,\n",
       " 'num_target_files_removed': 1,\n",
       " 'execution_time_ms': 40,\n",
       " 'scan_time_ms': 0,\n",
       " 'rewrite_time_ms': 7}"
      ]
     },
     "execution_count": 37,
     "metadata": {},
     "output_type": "execute_result"
    }
   ],
   "source": [
    "(\n",
    "    df.write_delta(\n",
    "        \"s3://reddit-submissions/submissions-raw\",\n",
    "        mode=\"merge\",\n",
    "        storage_options=minio_storage_options,\n",
    "        delta_merge_options={\n",
    "            \"predicate\": \"s.permalink = t.permalink\",\n",
    "            \"source_alias\": \"s\",\n",
    "            \"target_alias\": \"t\",\n",
    "        },\n",
    "    )\n",
    "    .when_matched_update_all()\n",
    "    .when_not_matched_insert_all()\n",
    "    .execute()\n",
    ")"
   ]
  },
  {
   "cell_type": "markdown",
   "id": "e68919f9",
   "metadata": {},
   "source": [
    "# 4. Load data and apply AI\n",
    "\n",
    "We load the data again from the same MinIO object:"
   ]
  },
  {
   "cell_type": "code",
   "execution_count": 38,
   "id": "d08f6ff8",
   "metadata": {},
   "outputs": [
    {
     "data": {
      "text/html": [
       "<div><style>\n",
       ".dataframe > thead > tr,\n",
       ".dataframe > tbody > tr {\n",
       "  text-align: right;\n",
       "  white-space: pre-wrap;\n",
       "}\n",
       "</style>\n",
       "<small>shape: (2, 12)</small><table border=\"1\" class=\"dataframe\"><thead><tr><th>title</th><th>author_name</th><th>creation_datetime</th><th>subreddit_name</th><th>num_comments</th><th>sfw</th><th>score</th><th>upvote_ratio</th><th>is_self</th><th>permalink</th><th>selftext</th><th>flair_text</th></tr><tr><td>str</td><td>str</td><td>datetime[μs]</td><td>str</td><td>i64</td><td>bool</td><td>i64</td><td>f64</td><td>bool</td><td>str</td><td>str</td><td>str</td></tr></thead><tbody><tr><td>&quot;AITA: Bathroom…</td><td>&quot;Used_Warning_2…</td><td>2024-03-24 13:05:45</td><td>&quot;r/AmItheAsshol…</td><td>2</td><td>true</td><td>1</td><td>1.0</td><td>true</td><td>&quot;/r/AmItheAssho…</td><td>&quot;My little brot…</td><td>null</td></tr><tr><td>&quot;AITA for sayin…</td><td>&quot;Every-Disaster…</td><td>2024-03-24 13:07:01</td><td>&quot;r/AmItheAsshol…</td><td>2</td><td>true</td><td>0</td><td>0.5</td><td>true</td><td>&quot;/r/AmItheAssho…</td><td>&quot;I (15F) my mom…</td><td>null</td></tr></tbody></table></div>"
      ],
      "text/plain": [
       "shape: (2, 12)\n",
       "┌────────────┬───────────┬───────────┬───────────┬───┬─────────┬───────────┬───────────┬───────────┐\n",
       "│ title      ┆ author_na ┆ creation_ ┆ subreddit ┆ … ┆ is_self ┆ permalink ┆ selftext  ┆ flair_tex │\n",
       "│ ---        ┆ me        ┆ datetime  ┆ _name     ┆   ┆ ---     ┆ ---       ┆ ---       ┆ t         │\n",
       "│ str        ┆ ---       ┆ ---       ┆ ---       ┆   ┆ bool    ┆ str       ┆ str       ┆ ---       │\n",
       "│            ┆ str       ┆ datetime[ ┆ str       ┆   ┆         ┆           ┆           ┆ str       │\n",
       "│            ┆           ┆ μs]       ┆           ┆   ┆         ┆           ┆           ┆           │\n",
       "╞════════════╪═══════════╪═══════════╪═══════════╪═══╪═════════╪═══════════╪═══════════╪═══════════╡\n",
       "│ AITA:      ┆ Used_Warn ┆ 2024-03-2 ┆ r/AmItheA ┆ … ┆ true    ┆ /r/AmIthe ┆ My little ┆ null      │\n",
       "│ Bathroom   ┆ ing_2162  ┆ 4         ┆ sshole    ┆   ┆         ┆ Asshole/c ┆ brother   ┆           │\n",
       "│ situation  ┆           ┆ 13:05:45  ┆           ┆   ┆         ┆ omments/1 ┆           ┆           │\n",
       "│            ┆           ┆           ┆           ┆   ┆         ┆ bmkau…    ┆ I went to ┆           │\n",
       "│            ┆           ┆           ┆           ┆   ┆         ┆           ┆ op…       ┆           │\n",
       "│ AITA for   ┆ Every-Dis ┆ 2024-03-2 ┆ r/AmItheA ┆ … ┆ true    ┆ /r/AmIthe ┆ I (15F)   ┆ null      │\n",
       "│ saying my  ┆ aster1853 ┆ 4         ┆ sshole    ┆   ┆         ┆ Asshole/c ┆ my mom    ┆           │\n",
       "│ mom isn't  ┆           ┆ 13:07:01  ┆           ┆   ┆         ┆ omments/1 ┆ (52F)     ┆           │\n",
       "│ my …       ┆           ┆           ┆           ┆   ┆         ┆ bmkbp…    ┆ never had ┆           │\n",
       "│            ┆           ┆           ┆           ┆   ┆         ┆           ┆ a…        ┆           │\n",
       "└────────────┴───────────┴───────────┴───────────┴───┴─────────┴───────────┴───────────┴───────────┘"
      ]
     },
     "execution_count": 38,
     "metadata": {},
     "output_type": "execute_result"
    }
   ],
   "source": [
    "df = pl.read_delta(\"s3://reddit-submissions/submissions-raw\", storage_options=minio_storage_options)\n",
    "df.head()"
   ]
  },
  {
   "cell_type": "code",
   "execution_count": 39,
   "id": "48a09ea3",
   "metadata": {},
   "outputs": [
    {
     "name": "stderr",
     "output_type": "stream",
     "text": [
      "/Users/juan_cano/Projects/QuantumBlackLabs/workshop-kedro-huggingface/.venv/lib/python3.11/site-packages/tqdm/auto.py:21: TqdmWarning: IProgress not found. Please update jupyter and ipywidgets. See https://ipywidgets.readthedocs.io/en/stable/user_install.html\n",
      "  from .autonotebook import tqdm as notebook_tqdm\n"
     ]
    }
   ],
   "source": [
    "from transformers import pipeline"
   ]
  },
  {
   "cell_type": "code",
   "execution_count": 40,
   "id": "219d7a34",
   "metadata": {},
   "outputs": [
    {
     "name": "stderr",
     "output_type": "stream",
     "text": [
      "No model was supplied, defaulted to sshleifer/distilbart-cnn-12-6 and revision a4f8f3e (https://huggingface.co/sshleifer/distilbart-cnn-12-6).\n",
      "Using a pipeline without specifying a model name and revision in production is not recommended.\n"
     ]
    }
   ],
   "source": [
    "summarizer = pipeline(\"summarization\")  # model=\"sshleifer/distilbart-cnn-12-6\""
   ]
  },
  {
   "cell_type": "code",
   "execution_count": 41,
   "id": "82eeb709",
   "metadata": {},
   "outputs": [],
   "source": [
    "s0 = df.item(0, \"selftext\")"
   ]
  },
  {
   "cell_type": "code",
   "execution_count": 42,
   "id": "fad18483",
   "metadata": {},
   "outputs": [],
   "source": [
    "summary_s0 = summarizer(s0)[0][\"summary_text\"]"
   ]
  },
  {
   "cell_type": "code",
   "execution_count": 43,
   "id": "4cc4b7d2",
   "metadata": {},
   "outputs": [
    {
     "name": "stdout",
     "output_type": "stream",
     "text": [
      "My little brother got mad when I opened the bathroom door to see if\n",
      "he was inside and when he saw he was using the sink I closed the door\n",
      ". He then got mad at me and told me “why would you open the door, if\n",
      "you saw the light was on!”\n"
     ]
    }
   ],
   "source": [
    "print(\"\\n\".join(textwrap.wrap(summary_s0, width=70)).strip())"
   ]
  },
  {
   "cell_type": "code",
   "execution_count": 44,
   "id": "f8342896",
   "metadata": {},
   "outputs": [],
   "source": [
    "mask_filler = pipeline(\"fill-mask\", model=\"Twitter/twhin-bert-base\")"
   ]
  },
  {
   "cell_type": "code",
   "execution_count": 45,
   "id": "1ebe0bde",
   "metadata": {},
   "outputs": [
    {
     "data": {
      "text/plain": [
       "[{'score': 0.08455858379602432,\n",
       "  'token': 12409,\n",
       "  'token_str': 'dad',\n",
       "  'sequence': 'My little brother got mad when I opened the bathroom door to see if he was inside and when he saw he was using the sink I closed the door. He then got mad at me and told me “why would you open the door, if you saw the light was on!” #dad'},\n",
       " {'score': 0.03174099326133728,\n",
       "  'token': 73866,\n",
       "  'token_str': 'help',\n",
       "  'sequence': 'My little brother got mad when I opened the bathroom door to see if he was inside and when he saw he was using the sink I closed the door. He then got mad at me and told me “why would you open the door, if you saw the light was on!” #help'},\n",
       " {'score': 0.027666352689266205,\n",
       "  'token': 17457,\n",
       "  'token_str': 'sad',\n",
       "  'sequence': 'My little brother got mad when I opened the bathroom door to see if he was inside and when he saw he was using the sink I closed the door. He then got mad at me and told me “why would you open the door, if you saw the light was on!” #sad'},\n",
       " {'score': 0.026970725506544113,\n",
       "  'token': 24804,\n",
       "  'token_str': 'life',\n",
       "  'sequence': 'My little brother got mad when I opened the bathroom door to see if he was inside and when he saw he was using the sink I closed the door. He then got mad at me and told me “why would you open the door, if you saw the light was on!” #life'},\n",
       " {'score': 0.021465932950377464,\n",
       "  'token': 35399,\n",
       "  'token_str': 'mama',\n",
       "  'sequence': 'My little brother got mad when I opened the bathroom door to see if he was inside and when he saw he was using the sink I closed the door. He then got mad at me and told me “why would you open the door, if you saw the light was on!” #mama'}]"
      ]
     },
     "execution_count": 45,
     "metadata": {},
     "output_type": "execute_result"
    }
   ],
   "source": [
    "mask_filler(summary_s0 + \" #<mask>\")"
   ]
  },
  {
   "cell_type": "code",
   "execution_count": 46,
   "id": "e1bd0709",
   "metadata": {},
   "outputs": [],
   "source": [
    "def get_hashtags(text, mask_filler_model) -> list[str]:\n",
    "    results = mask_filler_model(text.strip() + \" #<mask>\")\n",
    "\n",
    "    hashtags = set()\n",
    "    for ht_dict in results:\n",
    "        hashtags.add(ht_dict[\"token_str\"])\n",
    "\n",
    "    if max(len(ht) for ht in hashtags) == 1:\n",
    "        # Discard list of ugly hashtags\n",
    "        return []\n",
    "\n",
    "    return list(hashtags)"
   ]
  },
  {
   "cell_type": "code",
   "execution_count": 47,
   "id": "95e7825e",
   "metadata": {},
   "outputs": [],
   "source": [
    "def get_summary(text, summarizer_model) -> str:\n",
    "    summary = summarizer_model(text)[0][\"summary_text\"].strip()\n",
    "    return summary"
   ]
  },
  {
   "cell_type": "code",
   "execution_count": 48,
   "id": "0e9f189a",
   "metadata": {},
   "outputs": [
    {
     "data": {
      "text/plain": [
       "['sad', 'mama', 'help', 'life', 'dad']"
      ]
     },
     "execution_count": 48,
     "metadata": {},
     "output_type": "execute_result"
    }
   ],
   "source": [
    "get_hashtags(get_summary(df.item(0, \"selftext\"), summarizer_model=summarizer), mask_filler)"
   ]
  },
  {
   "cell_type": "code",
   "execution_count": 49,
   "id": "850c8d36",
   "metadata": {},
   "outputs": [
    {
     "data": {
      "text/html": [
       "<div><style>\n",
       ".dataframe > thead > tr,\n",
       ".dataframe > tbody > tr {\n",
       "  text-align: right;\n",
       "  white-space: pre-wrap;\n",
       "}\n",
       "</style>\n",
       "<small>shape: (2, 8)</small><table border=\"1\" class=\"dataframe\"><thead><tr><th>author_name</th><th>creation_datetime</th><th>permalink</th><th>title</th><th>selftext</th><th>summary</th><th>hashtags</th><th>summarization_pct</th></tr><tr><td>str</td><td>datetime[μs]</td><td>str</td><td>str</td><td>str</td><td>str</td><td>list[str]</td><td>f64</td></tr></thead><tbody><tr><td>&quot;Used_Warning_2…</td><td>2024-03-24 13:05:45</td><td>&quot;/r/AmItheAssho…</td><td>&quot;AITA: Bathroom…</td><td>&quot;My little brot…</td><td>&quot;My little brot…</td><td>[&quot;sad&quot;, &quot;mama&quot;, … &quot;dad&quot;]</td><td>0.360124</td></tr><tr><td>&quot;Every-Disaster…</td><td>2024-03-24 13:07:01</td><td>&quot;/r/AmItheAssho…</td><td>&quot;AITA for sayin…</td><td>&quot;I (15F) my mom…</td><td>&quot;I (15F) my mom…</td><td>[&quot;gh&quot;, &quot;RIP&quot;, … &quot;dad&quot;]</td><td>0.576592</td></tr></tbody></table></div>"
      ],
      "text/plain": [
       "shape: (2, 8)\n",
       "┌────────────┬────────────┬────────────┬───────────┬───────────┬───────────┬───────────┬───────────┐\n",
       "│ author_nam ┆ creation_d ┆ permalink  ┆ title     ┆ selftext  ┆ summary   ┆ hashtags  ┆ summariza │\n",
       "│ e          ┆ atetime    ┆ ---        ┆ ---       ┆ ---       ┆ ---       ┆ ---       ┆ tion_pct  │\n",
       "│ ---        ┆ ---        ┆ str        ┆ str       ┆ str       ┆ str       ┆ list[str] ┆ ---       │\n",
       "│ str        ┆ datetime[μ ┆            ┆           ┆           ┆           ┆           ┆ f64       │\n",
       "│            ┆ s]         ┆            ┆           ┆           ┆           ┆           ┆           │\n",
       "╞════════════╪════════════╪════════════╪═══════════╪═══════════╪═══════════╪═══════════╪═══════════╡\n",
       "│ Used_Warni ┆ 2024-03-24 ┆ /r/AmItheA ┆ AITA:     ┆ My little ┆ My little ┆ [\"sad\",   ┆ 0.360124  │\n",
       "│ ng_2162    ┆ 13:05:45   ┆ sshole/com ┆ Bathroom  ┆ brother   ┆ brother   ┆ \"mama\", … ┆           │\n",
       "│            ┆            ┆ ments/1bmk ┆ situation ┆           ┆ got mad   ┆ \"dad\"]    ┆           │\n",
       "│            ┆            ┆ au…        ┆           ┆ I went to ┆ when I…   ┆           ┆           │\n",
       "│            ┆            ┆            ┆           ┆ op…       ┆           ┆           ┆           │\n",
       "│ Every-Disa ┆ 2024-03-24 ┆ /r/AmItheA ┆ AITA for  ┆ I (15F)   ┆ I (15F)   ┆ [\"gh\",    ┆ 0.576592  │\n",
       "│ ster1853   ┆ 13:07:01   ┆ sshole/com ┆ saying my ┆ my mom    ┆ my mom    ┆ \"RIP\", …  ┆           │\n",
       "│            ┆            ┆ ments/1bmk ┆ mom isn't ┆ (52F)     ┆ (52F)     ┆ \"dad\"]    ┆           │\n",
       "│            ┆            ┆ bp…        ┆ my …      ┆ never had ┆ never had ┆           ┆           │\n",
       "│            ┆            ┆            ┆           ┆ a…        ┆ a…        ┆           ┆           │\n",
       "└────────────┴────────────┴────────────┴───────────┴───────────┴───────────┴───────────┴───────────┘"
      ]
     },
     "execution_count": 49,
     "metadata": {},
     "output_type": "execute_result"
    }
   ],
   "source": [
    "concise_df = df.with_columns(\n",
    "    pl.col(\"selftext\").map_elements(lambda text: get_summary(text, summarizer_model=summarizer)).alias(\"summary\"),\n",
    ").with_columns(\n",
    "    pl.col(\"summary\").map_elements(lambda text: get_hashtags(text, mask_filler_model=mask_filler)).alias(\"hashtags\")\n",
    ").with_columns(\n",
    "    (pl.col(\"summary\").str.len_chars() / pl.col(\"selftext\").str.len_chars()).alias(\"summarization_pct\")\n",
    ").select(\n",
    "    pl.col(\"author_name\", \"creation_datetime\", \"permalink\", \"title\", \"selftext\", \"summary\", \"hashtags\", \"summarization_pct\")\n",
    ")\n",
    "concise_df.head()"
   ]
  },
  {
   "cell_type": "markdown",
   "id": "8daba8a1",
   "metadata": {},
   "source": [
    "# 5. Store the manipulated data"
   ]
  },
  {
   "cell_type": "code",
   "execution_count": 50,
   "id": "f2729cd4",
   "metadata": {},
   "outputs": [],
   "source": [
    "concise_df.write_delta(\"s3://reddit-submissions/submissions-concise\", mode=\"overwrite\", storage_options=minio_storage_options)"
   ]
  },
  {
   "cell_type": "code",
   "execution_count": 51,
   "id": "479111c4",
   "metadata": {},
   "outputs": [
    {
     "data": {
      "text/plain": [
       "{'num_source_rows': 2,\n",
       " 'num_target_rows_inserted': 0,\n",
       " 'num_target_rows_updated': 2,\n",
       " 'num_target_rows_deleted': 0,\n",
       " 'num_target_rows_copied': 0,\n",
       " 'num_output_rows': 2,\n",
       " 'num_target_files_added': 1,\n",
       " 'num_target_files_removed': 1,\n",
       " 'execution_time_ms': 39,\n",
       " 'scan_time_ms': 0,\n",
       " 'rewrite_time_ms': 7}"
      ]
     },
     "execution_count": 51,
     "metadata": {},
     "output_type": "execute_result"
    }
   ],
   "source": [
    "(\n",
    "    concise_df.write_delta(\n",
    "        \"s3://reddit-submissions/submissions-concise\",\n",
    "        mode=\"merge\",\n",
    "        storage_options=minio_storage_options,\n",
    "        delta_merge_options={\n",
    "            \"predicate\": \"s.permalink = t.permalink\",\n",
    "            \"source_alias\": \"s\",\n",
    "            \"target_alias\": \"t\",\n",
    "        },\n",
    "    )\n",
    "    .when_matched_update_all()\n",
    "    .when_not_matched_insert_all()\n",
    "    .execute()\n",
    ")"
   ]
  },
  {
   "cell_type": "markdown",
   "id": "abd3047b",
   "metadata": {},
   "source": [
    "# Extra: Using LLMs through APIs\n",
    "\n",
    "Ollama is an open source tool that allows you to access pre-trained open models with an API that is compatible with OpenAI.\n",
    "\n",
    "<div class=\"alert alert-danger\"><em>⚠️ Local LLMs require a properly configured GPU to perform inference in reasonable times. If you don't have one, try purchasing OpenAI tokens instead. Since this workshop is about not using ChatGPT and not all participants may have adequate hardware or drivers, this part is optional.</em></div>"
   ]
  },
  {
   "cell_type": "code",
   "execution_count": 52,
   "id": "3edeb5fb",
   "metadata": {},
   "outputs": [
    {
     "data": {
      "text/plain": [
       "{'status': 'success'}"
      ]
     },
     "execution_count": 52,
     "metadata": {},
     "output_type": "execute_result"
    }
   ],
   "source": [
    "import ollama\n",
    "\n",
    "ollama.pull(\"llama2\")"
   ]
  },
  {
   "cell_type": "code",
   "execution_count": 53,
   "id": "e0dd490f",
   "metadata": {},
   "outputs": [
    {
     "name": "stderr",
     "output_type": "stream",
     "text": [
      "huggingface/tokenizers: The current process just got forked, after parallelism has already been used. Disabling parallelism to avoid deadlocks...\n",
      "To disable this warning, you can either:\n",
      "\t- Avoid using `tokenizers` before the fork if possible\n",
      "\t- Explicitly set the environment variable TOKENIZERS_PARALLELISM=(true | false)\n"
     ]
    },
    {
     "name": "stdout",
     "output_type": "stream",
     "text": [
      "Of course! Here is the information you requested:\n",
      "\n",
      "This is a test.\n"
     ]
    }
   ],
   "source": [
    "from openai import OpenAI\n",
    "\n",
    "client = OpenAI(\n",
    "    base_url = 'http://localhost:11434/v1',\n",
    "    api_key='ollama', # required, but unused\n",
    ")\n",
    "\n",
    "response = client.chat.completions.create(\n",
    "    messages=[{\"role\": \"user\", \"content\": \"Say this is a test\"}],\n",
    "    # model=\"gpt-3.5-turbo\",\n",
    "    model=\"llama2\"\n",
    ")\n",
    "print(response.choices[0].message.content)"
   ]
  }
 ],
 "metadata": {
  "kernelspec": {
   "display_name": "Python 3 (ipykernel)",
   "language": "python",
   "name": "python3"
  },
  "language_info": {
   "codemirror_mode": {
    "name": "ipython",
    "version": 3
   },
   "file_extension": ".py",
   "mimetype": "text/x-python",
   "name": "python",
   "nbconvert_exporter": "python",
   "pygments_lexer": "ipython3",
   "version": "3.11.5"
  }
 },
 "nbformat": 4,
 "nbformat_minor": 5
}
